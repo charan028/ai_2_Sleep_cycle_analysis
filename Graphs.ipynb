{
 "cells": [
  {
   "cell_type": "code",
   "execution_count": 1,
   "id": "121d21b3",
   "metadata": {},
   "outputs": [],
   "source": [
    "#!pip install scikit-learn"
   ]
  },
  {
   "cell_type": "code",
   "execution_count": 2,
   "id": "ec613b61",
   "metadata": {},
   "outputs": [],
   "source": [
    "import numpy as np\n",
    "import pandas as pd\n",
    "from datetime import datetime\n",
    "import matplotlib.pyplot as plt\n",
    "import numpy as np\n",
    "import os\n",
    "\n",
    "import statistics\n",
    "\n",
    "from sklearn.model_selection import train_test_split\n",
    "from sklearn.linear_model import LogisticRegression\n",
    "\n",
    "from sklearn import datasets\n",
    "from sklearn import model_selection\n",
    "from sklearn import linear_model\n",
    "from sklearn import metrics\n",
    "\n",
    "from sklearn.metrics import ConfusionMatrixDisplay\n",
    "\n",
    "from sklearn.cluster import KMeans\n",
    "from scipy.fft import fft, ifft\n",
    "\n",
    "from sklearn import tree\n",
    "from sklearn.tree import DecisionTreeClassifier\n",
    "\n",
    "import tensorflow as tf\n",
    "from tensorflow.keras.models import Sequential\n",
    "from tensorflow.keras.layers import Dense\n",
    "from tensorflow.keras.layers import LSTM\n",
    "from sklearn.preprocessing import MinMaxScaler\n",
    "from sklearn.metrics import mean_squared_error\n",
    "\n",
    "from sklearn.model_selection import KFold, cross_val_score "
   ]
  },
  {
   "cell_type": "code",
   "execution_count": 3,
   "id": "c322b4b9",
   "metadata": {},
   "outputs": [],
   "source": [
    "directory = \"C:\\\\Users\\\\black\\\\OneDrive\\\\Desktop\\\\Sleep Project Files\""
   ]
  },
  {
   "cell_type": "code",
   "execution_count": 4,
   "id": "85cd3fc2",
   "metadata": {},
   "outputs": [],
   "source": [
    "path = directory+'\\\\'+'Data_12.csv'\n",
    "#print(path)\n",
    "df = pd.read_csv(path,low_memory=False)\n",
    "\n",
    "df = df.replace('Movement time',6)"
   ]
  },
  {
   "cell_type": "code",
   "execution_count": 5,
   "id": "330dcb5c",
   "metadata": {},
   "outputs": [
    {
     "data": {
      "text/html": [
       "<div>\n",
       "<style scoped>\n",
       "    .dataframe tbody tr th:only-of-type {\n",
       "        vertical-align: middle;\n",
       "    }\n",
       "\n",
       "    .dataframe tbody tr th {\n",
       "        vertical-align: top;\n",
       "    }\n",
       "\n",
       "    .dataframe thead th {\n",
       "        text-align: right;\n",
       "    }\n",
       "</style>\n",
       "<table border=\"1\" class=\"dataframe\">\n",
       "  <thead>\n",
       "    <tr style=\"text-align: right;\">\n",
       "      <th></th>\n",
       "      <th>time</th>\n",
       "      <th>target</th>\n",
       "      <th>Fpz-Cz</th>\n",
       "      <th>Pz-Oz</th>\n",
       "      <th>horizontal</th>\n",
       "      <th>submental</th>\n",
       "    </tr>\n",
       "  </thead>\n",
       "  <tbody>\n",
       "    <tr>\n",
       "      <th>0</th>\n",
       "      <td>0.00</td>\n",
       "      <td>0</td>\n",
       "      <td>7.809524</td>\n",
       "      <td>2.239560</td>\n",
       "      <td>-299.107204</td>\n",
       "      <td>0.000003</td>\n",
       "    </tr>\n",
       "    <tr>\n",
       "      <th>1</th>\n",
       "      <td>0.01</td>\n",
       "      <td>0</td>\n",
       "      <td>10.571429</td>\n",
       "      <td>8.207814</td>\n",
       "      <td>-310.120635</td>\n",
       "      <td>0.000003</td>\n",
       "    </tr>\n",
       "    <tr>\n",
       "      <th>2</th>\n",
       "      <td>0.02</td>\n",
       "      <td>0</td>\n",
       "      <td>17.142857</td>\n",
       "      <td>4.994139</td>\n",
       "      <td>-317.609768</td>\n",
       "      <td>0.000003</td>\n",
       "    </tr>\n",
       "    <tr>\n",
       "      <th>3</th>\n",
       "      <td>0.03</td>\n",
       "      <td>0</td>\n",
       "      <td>17.714286</td>\n",
       "      <td>12.064225</td>\n",
       "      <td>-300.428816</td>\n",
       "      <td>0.000003</td>\n",
       "    </tr>\n",
       "    <tr>\n",
       "      <th>4</th>\n",
       "      <td>0.04</td>\n",
       "      <td>0</td>\n",
       "      <td>19.142857</td>\n",
       "      <td>7.014164</td>\n",
       "      <td>-316.728694</td>\n",
       "      <td>0.000003</td>\n",
       "    </tr>\n",
       "    <tr>\n",
       "      <th>...</th>\n",
       "      <td>...</td>\n",
       "      <td>...</td>\n",
       "      <td>...</td>\n",
       "      <td>...</td>\n",
       "      <td>...</td>\n",
       "      <td>...</td>\n",
       "    </tr>\n",
       "    <tr>\n",
       "      <th>8309995</th>\n",
       "      <td>83099.95</td>\n",
       "      <td>0</td>\n",
       "      <td>-2.190476</td>\n",
       "      <td>1.872283</td>\n",
       "      <td>5.304029</td>\n",
       "      <td>0.000003</td>\n",
       "    </tr>\n",
       "    <tr>\n",
       "      <th>8309996</th>\n",
       "      <td>83099.96</td>\n",
       "      <td>0</td>\n",
       "      <td>-0.476190</td>\n",
       "      <td>1.596825</td>\n",
       "      <td>6.625641</td>\n",
       "      <td>0.000003</td>\n",
       "    </tr>\n",
       "    <tr>\n",
       "      <th>8309997</th>\n",
       "      <td>83099.97</td>\n",
       "      <td>0</td>\n",
       "      <td>-0.857143</td>\n",
       "      <td>1.780464</td>\n",
       "      <td>3.101343</td>\n",
       "      <td>0.000003</td>\n",
       "    </tr>\n",
       "    <tr>\n",
       "      <th>8309998</th>\n",
       "      <td>83099.98</td>\n",
       "      <td>0</td>\n",
       "      <td>-2.761905</td>\n",
       "      <td>1.688645</td>\n",
       "      <td>4.863492</td>\n",
       "      <td>0.000003</td>\n",
       "    </tr>\n",
       "    <tr>\n",
       "      <th>8309999</th>\n",
       "      <td>83099.99</td>\n",
       "      <td>0</td>\n",
       "      <td>-1.428571</td>\n",
       "      <td>1.321368</td>\n",
       "      <td>3.541880</td>\n",
       "      <td>0.000003</td>\n",
       "    </tr>\n",
       "  </tbody>\n",
       "</table>\n",
       "<p>8310000 rows × 6 columns</p>\n",
       "</div>"
      ],
      "text/plain": [
       "             time  target     Fpz-Cz      Pz-Oz  horizontal  submental\n",
       "0            0.00       0   7.809524   2.239560 -299.107204   0.000003\n",
       "1            0.01       0  10.571429   8.207814 -310.120635   0.000003\n",
       "2            0.02       0  17.142857   4.994139 -317.609768   0.000003\n",
       "3            0.03       0  17.714286  12.064225 -300.428816   0.000003\n",
       "4            0.04       0  19.142857   7.014164 -316.728694   0.000003\n",
       "...           ...     ...        ...        ...         ...        ...\n",
       "8309995  83099.95       0  -2.190476   1.872283    5.304029   0.000003\n",
       "8309996  83099.96       0  -0.476190   1.596825    6.625641   0.000003\n",
       "8309997  83099.97       0  -0.857143   1.780464    3.101343   0.000003\n",
       "8309998  83099.98       0  -2.761905   1.688645    4.863492   0.000003\n",
       "8309999  83099.99       0  -1.428571   1.321368    3.541880   0.000003\n",
       "\n",
       "[8310000 rows x 6 columns]"
      ]
     },
     "metadata": {},
     "output_type": "display_data"
    }
   ],
   "source": [
    "display(df)"
   ]
  },
  {
   "cell_type": "code",
   "execution_count": 169,
   "id": "1337f9a7",
   "metadata": {},
   "outputs": [
    {
     "data": {
      "text/html": [
       "<div>\n",
       "<style scoped>\n",
       "    .dataframe tbody tr th:only-of-type {\n",
       "        vertical-align: middle;\n",
       "    }\n",
       "\n",
       "    .dataframe tbody tr th {\n",
       "        vertical-align: top;\n",
       "    }\n",
       "\n",
       "    .dataframe thead th {\n",
       "        text-align: right;\n",
       "    }\n",
       "</style>\n",
       "<table border=\"1\" class=\"dataframe\">\n",
       "  <thead>\n",
       "    <tr style=\"text-align: right;\">\n",
       "      <th></th>\n",
       "      <th>time</th>\n",
       "      <th>target</th>\n",
       "      <th>Fpz-Cz</th>\n",
       "      <th>Pz-Oz</th>\n",
       "      <th>horizontal</th>\n",
       "      <th>submental</th>\n",
       "    </tr>\n",
       "  </thead>\n",
       "  <tbody>\n",
       "    <tr>\n",
       "      <th>0</th>\n",
       "      <td>0.00</td>\n",
       "      <td>0</td>\n",
       "      <td>7.809524</td>\n",
       "      <td>2.239560</td>\n",
       "      <td>-299.107204</td>\n",
       "      <td>0.000003</td>\n",
       "    </tr>\n",
       "    <tr>\n",
       "      <th>1</th>\n",
       "      <td>0.01</td>\n",
       "      <td>0</td>\n",
       "      <td>10.571429</td>\n",
       "      <td>8.207814</td>\n",
       "      <td>-310.120635</td>\n",
       "      <td>0.000003</td>\n",
       "    </tr>\n",
       "    <tr>\n",
       "      <th>2</th>\n",
       "      <td>0.02</td>\n",
       "      <td>0</td>\n",
       "      <td>17.142857</td>\n",
       "      <td>4.994139</td>\n",
       "      <td>-317.609768</td>\n",
       "      <td>0.000003</td>\n",
       "    </tr>\n",
       "    <tr>\n",
       "      <th>3</th>\n",
       "      <td>0.03</td>\n",
       "      <td>0</td>\n",
       "      <td>17.714286</td>\n",
       "      <td>12.064225</td>\n",
       "      <td>-300.428816</td>\n",
       "      <td>0.000003</td>\n",
       "    </tr>\n",
       "    <tr>\n",
       "      <th>4</th>\n",
       "      <td>0.04</td>\n",
       "      <td>0</td>\n",
       "      <td>19.142857</td>\n",
       "      <td>7.014164</td>\n",
       "      <td>-316.728694</td>\n",
       "      <td>0.000003</td>\n",
       "    </tr>\n",
       "  </tbody>\n",
       "</table>\n",
       "</div>"
      ],
      "text/plain": [
       "   time  target     Fpz-Cz      Pz-Oz  horizontal  submental\n",
       "0  0.00       0   7.809524   2.239560 -299.107204   0.000003\n",
       "1  0.01       0  10.571429   8.207814 -310.120635   0.000003\n",
       "2  0.02       0  17.142857   4.994139 -317.609768   0.000003\n",
       "3  0.03       0  17.714286  12.064225 -300.428816   0.000003\n",
       "4  0.04       0  19.142857   7.014164 -316.728694   0.000003"
      ]
     },
     "execution_count": 169,
     "metadata": {},
     "output_type": "execute_result"
    }
   ],
   "source": [
    "df.head()"
   ]
  },
  {
   "cell_type": "code",
   "execution_count": 170,
   "id": "d5654682",
   "metadata": {},
   "outputs": [
    {
     "data": {
      "text/plain": [
       "Fpz-Cz        1.008804\n",
       "Pz-Oz         0.957693\n",
       "horizontal    2.187043\n",
       "submental     0.000002\n",
       "dtype: float64"
      ]
     },
     "execution_count": 170,
     "metadata": {},
     "output_type": "execute_result"
    }
   ],
   "source": [
    "df[['Fpz-Cz','Pz-Oz','horizontal','submental']].mean()"
   ]
  },
  {
   "cell_type": "code",
   "execution_count": 171,
   "id": "543ef0b9",
   "metadata": {},
   "outputs": [
    {
     "data": {
      "text/plain": [
       "Fpz-Cz        0.761905\n",
       "Pz-Oz         0.954090\n",
       "horizontal    1.779731\n",
       "submental     0.000002\n",
       "dtype: float64"
      ]
     },
     "execution_count": 171,
     "metadata": {},
     "output_type": "execute_result"
    }
   ],
   "source": [
    "df[['Fpz-Cz','Pz-Oz','horizontal','submental']].median()"
   ]
  },
  {
   "cell_type": "code",
   "execution_count": 172,
   "id": "58710d59",
   "metadata": {},
   "outputs": [
    {
     "data": {
      "text/html": [
       "<div>\n",
       "<style scoped>\n",
       "    .dataframe tbody tr th:only-of-type {\n",
       "        vertical-align: middle;\n",
       "    }\n",
       "\n",
       "    .dataframe tbody tr th {\n",
       "        vertical-align: top;\n",
       "    }\n",
       "\n",
       "    .dataframe thead th {\n",
       "        text-align: right;\n",
       "    }\n",
       "</style>\n",
       "<table border=\"1\" class=\"dataframe\">\n",
       "  <thead>\n",
       "    <tr style=\"text-align: right;\">\n",
       "      <th></th>\n",
       "      <th>Fpz-Cz</th>\n",
       "      <th>Pz-Oz</th>\n",
       "      <th>horizontal</th>\n",
       "      <th>submental</th>\n",
       "    </tr>\n",
       "  </thead>\n",
       "  <tbody>\n",
       "    <tr>\n",
       "      <th>count</th>\n",
       "      <td>8.310000e+06</td>\n",
       "      <td>8.310000e+06</td>\n",
       "      <td>8.310000e+06</td>\n",
       "      <td>8.310000e+06</td>\n",
       "    </tr>\n",
       "    <tr>\n",
       "      <th>mean</th>\n",
       "      <td>1.008804e+00</td>\n",
       "      <td>9.576933e-01</td>\n",
       "      <td>2.187043e+00</td>\n",
       "      <td>1.840920e-06</td>\n",
       "    </tr>\n",
       "    <tr>\n",
       "      <th>std</th>\n",
       "      <td>4.181010e+01</td>\n",
       "      <td>8.235371e+00</td>\n",
       "      <td>1.430175e+02</td>\n",
       "      <td>1.289933e-06</td>\n",
       "    </tr>\n",
       "    <tr>\n",
       "      <th>min</th>\n",
       "      <td>-1.940000e+02</td>\n",
       "      <td>-1.870000e+02</td>\n",
       "      <td>-8.101304e+02</td>\n",
       "      <td>-4.875852e-05</td>\n",
       "    </tr>\n",
       "    <tr>\n",
       "      <th>25%</th>\n",
       "      <td>-1.733333e+01</td>\n",
       "      <td>-3.361416e+00</td>\n",
       "      <td>-5.284689e+01</td>\n",
       "      <td>1.119603e-06</td>\n",
       "    </tr>\n",
       "    <tr>\n",
       "      <th>50%</th>\n",
       "      <td>7.619048e-01</td>\n",
       "      <td>9.540904e-01</td>\n",
       "      <td>1.779731e+00</td>\n",
       "      <td>2.385410e-06</td>\n",
       "    </tr>\n",
       "    <tr>\n",
       "      <th>75%</th>\n",
       "      <td>1.895238e+01</td>\n",
       "      <td>5.269597e+00</td>\n",
       "      <td>5.288205e+01</td>\n",
       "      <td>2.674922e-06</td>\n",
       "    </tr>\n",
       "    <tr>\n",
       "      <th>max</th>\n",
       "      <td>1.960000e+02</td>\n",
       "      <td>1.890000e+02</td>\n",
       "      <td>7.383580e+02</td>\n",
       "      <td>1.412371e-05</td>\n",
       "    </tr>\n",
       "  </tbody>\n",
       "</table>\n",
       "</div>"
      ],
      "text/plain": [
       "             Fpz-Cz         Pz-Oz    horizontal     submental\n",
       "count  8.310000e+06  8.310000e+06  8.310000e+06  8.310000e+06\n",
       "mean   1.008804e+00  9.576933e-01  2.187043e+00  1.840920e-06\n",
       "std    4.181010e+01  8.235371e+00  1.430175e+02  1.289933e-06\n",
       "min   -1.940000e+02 -1.870000e+02 -8.101304e+02 -4.875852e-05\n",
       "25%   -1.733333e+01 -3.361416e+00 -5.284689e+01  1.119603e-06\n",
       "50%    7.619048e-01  9.540904e-01  1.779731e+00  2.385410e-06\n",
       "75%    1.895238e+01  5.269597e+00  5.288205e+01  2.674922e-06\n",
       "max    1.960000e+02  1.890000e+02  7.383580e+02  1.412371e-05"
      ]
     },
     "execution_count": 172,
     "metadata": {},
     "output_type": "execute_result"
    }
   ],
   "source": [
    "df[['Fpz-Cz','Pz-Oz','horizontal','submental']].describe()"
   ]
  },
  {
   "cell_type": "code",
   "execution_count": 174,
   "id": "58c88085",
   "metadata": {},
   "outputs": [
    {
     "name": "stdout",
     "output_type": "stream",
     "text": [
      "0    6207000\n",
      "2    1221000\n",
      "5     306000\n",
      "4     303000\n",
      "1     168000\n",
      "3     105000\n",
      "Name: target, dtype: int64\n"
     ]
    },
    {
     "data": {
      "image/png": "[encoded data removed]",
      "text/plain": [
       "<Figure size 640x480 with 1 Axes>"
      ]
     },
     "metadata": {},
     "output_type": "display_data"
    }
   ],
   "source": [
    "counts = df['target'].value_counts()\n",
    "print(counts)\n",
    "x = [0,1,2,3,4,5]\n",
    "\n",
    "plt.xlabel(\"Sleep Stage\")\n",
    "plt.ylabel(\"Count\")\n",
    "\n",
    "plt.title('Sleep Class vs. Count')\n",
    "\n",
    "plt.bar(x,counts)\n",
    "plt.show() "
   ]
  },
  {
   "cell_type": "code",
   "execution_count": 175,
   "id": "6bb74e66",
   "metadata": {},
   "outputs": [],
   "source": [
    "df = df.drop(df[df['target'] == 0].index)"
   ]
  },
  {
   "cell_type": "code",
   "execution_count": 176,
   "id": "fa0255e5",
   "metadata": {},
   "outputs": [],
   "source": [
    "sample_size = 0.6\n",
    "\n",
    "df = df.groupby('target',group_keys=False).apply(lambda x: x.sample(frac=sample_size))\n",
    "df = df[df.target != '0']"
   ]
  },
  {
   "cell_type": "code",
   "execution_count": 177,
   "id": "b8884b37",
   "metadata": {},
   "outputs": [
    {
     "data": {
      "text/plain": [
       "3039386    1\n",
       "4876327    1\n",
       "3963141    1\n",
       "4888484    1\n",
       "3043234    1\n",
       "          ..\n",
       "3402971    5\n",
       "4693250    5\n",
       "4703458    5\n",
       "4663750    5\n",
       "4070750    5\n",
       "Name: target, Length: 1261800, dtype: int64"
      ]
     },
     "metadata": {},
     "output_type": "display_data"
    }
   ],
   "source": [
    "y = df['target']\n",
    "\n",
    "y = y.astype('int64')\n",
    "display(y)"
   ]
  },
  {
   "cell_type": "code",
   "execution_count": 178,
   "id": "cba5be72",
   "metadata": {},
   "outputs": [
    {
     "data": {
      "text/html": [
       "<div>\n",
       "<style scoped>\n",
       "    .dataframe tbody tr th:only-of-type {\n",
       "        vertical-align: middle;\n",
       "    }\n",
       "\n",
       "    .dataframe tbody tr th {\n",
       "        vertical-align: top;\n",
       "    }\n",
       "\n",
       "    .dataframe thead th {\n",
       "        text-align: right;\n",
       "    }\n",
       "</style>\n",
       "<table border=\"1\" class=\"dataframe\">\n",
       "  <thead>\n",
       "    <tr style=\"text-align: right;\">\n",
       "      <th></th>\n",
       "      <th>time</th>\n",
       "      <th>Fpz-Cz</th>\n",
       "      <th>Pz-Oz</th>\n",
       "      <th>horizontal</th>\n",
       "      <th>submental</th>\n",
       "    </tr>\n",
       "  </thead>\n",
       "  <tbody>\n",
       "    <tr>\n",
       "      <th>3039386</th>\n",
       "      <td>30393.86</td>\n",
       "      <td>-5.333333</td>\n",
       "      <td>10.595116</td>\n",
       "      <td>-2.625641</td>\n",
       "      <td>2.229686e-06</td>\n",
       "    </tr>\n",
       "    <tr>\n",
       "      <th>4876327</th>\n",
       "      <td>48763.27</td>\n",
       "      <td>2.952381</td>\n",
       "      <td>2.974115</td>\n",
       "      <td>-26.414652</td>\n",
       "      <td>2.760798e-06</td>\n",
       "    </tr>\n",
       "    <tr>\n",
       "      <th>3963141</th>\n",
       "      <td>39631.41</td>\n",
       "      <td>-1.047619</td>\n",
       "      <td>-1.249573</td>\n",
       "      <td>53.322589</td>\n",
       "      <td>3.020865e-06</td>\n",
       "    </tr>\n",
       "    <tr>\n",
       "      <th>4888484</th>\n",
       "      <td>48884.84</td>\n",
       "      <td>-8.000000</td>\n",
       "      <td>9.126007</td>\n",
       "      <td>-62.979243</td>\n",
       "      <td>2.198841e-06</td>\n",
       "    </tr>\n",
       "    <tr>\n",
       "      <th>3043234</th>\n",
       "      <td>30432.34</td>\n",
       "      <td>-8.285714</td>\n",
       "      <td>4.902320</td>\n",
       "      <td>-36.547009</td>\n",
       "      <td>2.229687e-06</td>\n",
       "    </tr>\n",
       "    <tr>\n",
       "      <th>...</th>\n",
       "      <td>...</td>\n",
       "      <td>...</td>\n",
       "      <td>...</td>\n",
       "      <td>...</td>\n",
       "      <td>...</td>\n",
       "    </tr>\n",
       "    <tr>\n",
       "      <th>3402971</th>\n",
       "      <td>34029.71</td>\n",
       "      <td>-0.190476</td>\n",
       "      <td>0.219536</td>\n",
       "      <td>-28.176801</td>\n",
       "      <td>8.655037e-08</td>\n",
       "    </tr>\n",
       "    <tr>\n",
       "      <th>4693250</th>\n",
       "      <td>46932.50</td>\n",
       "      <td>5.714286</td>\n",
       "      <td>2.055922</td>\n",
       "      <td>-36.106471</td>\n",
       "      <td>3.441014e-07</td>\n",
       "    </tr>\n",
       "    <tr>\n",
       "      <th>4703458</th>\n",
       "      <td>47034.58</td>\n",
       "      <td>-12.666667</td>\n",
       "      <td>2.423199</td>\n",
       "      <td>-4.387790</td>\n",
       "      <td>1.149961e-07</td>\n",
       "    </tr>\n",
       "    <tr>\n",
       "      <th>4663750</th>\n",
       "      <td>46637.50</td>\n",
       "      <td>-7.142857</td>\n",
       "      <td>-3.177778</td>\n",
       "      <td>-1.744567</td>\n",
       "      <td>1.792926e-07</td>\n",
       "    </tr>\n",
       "    <tr>\n",
       "      <th>4070750</th>\n",
       "      <td>40707.50</td>\n",
       "      <td>-12.761905</td>\n",
       "      <td>7.840537</td>\n",
       "      <td>17.198535</td>\n",
       "      <td>1.628323e-07</td>\n",
       "    </tr>\n",
       "  </tbody>\n",
       "</table>\n",
       "<p>1261800 rows × 5 columns</p>\n",
       "</div>"
      ],
      "text/plain": [
       "             time     Fpz-Cz      Pz-Oz  horizontal     submental\n",
       "3039386  30393.86  -5.333333  10.595116   -2.625641  2.229686e-06\n",
       "4876327  48763.27   2.952381   2.974115  -26.414652  2.760798e-06\n",
       "3963141  39631.41  -1.047619  -1.249573   53.322589  3.020865e-06\n",
       "4888484  48884.84  -8.000000   9.126007  -62.979243  2.198841e-06\n",
       "3043234  30432.34  -8.285714   4.902320  -36.547009  2.229687e-06\n",
       "...           ...        ...        ...         ...           ...\n",
       "3402971  34029.71  -0.190476   0.219536  -28.176801  8.655037e-08\n",
       "4693250  46932.50   5.714286   2.055922  -36.106471  3.441014e-07\n",
       "4703458  47034.58 -12.666667   2.423199   -4.387790  1.149961e-07\n",
       "4663750  46637.50  -7.142857  -3.177778   -1.744567  1.792926e-07\n",
       "4070750  40707.50 -12.761905   7.840537   17.198535  1.628323e-07\n",
       "\n",
       "[1261800 rows x 5 columns]"
      ]
     },
     "metadata": {},
     "output_type": "display_data"
    }
   ],
   "source": [
    "X = df.drop('target', axis = 1)\n",
    "display(X)"
   ]
  },
  {
   "cell_type": "code",
   "execution_count": 179,
   "id": "d7eeae7c",
   "metadata": {},
   "outputs": [],
   "source": [
    "X_train, X_test, y_train, y_test = train_test_split(X, y, test_size=0.2, random_state=42)"
   ]
  },
  {
   "cell_type": "code",
   "execution_count": 180,
   "id": "b8623fea",
   "metadata": {},
   "outputs": [
    {
     "data": {
      "text/html": [
       "<div>\n",
       "<style scoped>\n",
       "    .dataframe tbody tr th:only-of-type {\n",
       "        vertical-align: middle;\n",
       "    }\n",
       "\n",
       "    .dataframe tbody tr th {\n",
       "        vertical-align: top;\n",
       "    }\n",
       "\n",
       "    .dataframe thead th {\n",
       "        text-align: right;\n",
       "    }\n",
       "</style>\n",
       "<table border=\"1\" class=\"dataframe\">\n",
       "  <thead>\n",
       "    <tr style=\"text-align: right;\">\n",
       "      <th></th>\n",
       "      <th>time</th>\n",
       "      <th>Fpz-Cz</th>\n",
       "      <th>Pz-Oz</th>\n",
       "      <th>horizontal</th>\n",
       "      <th>submental</th>\n",
       "    </tr>\n",
       "  </thead>\n",
       "  <tbody>\n",
       "    <tr>\n",
       "      <th>3303784</th>\n",
       "      <td>33037.84</td>\n",
       "      <td>5.619048</td>\n",
       "      <td>7.656899</td>\n",
       "      <td>3.982418</td>\n",
       "      <td>1.688354e-06</td>\n",
       "    </tr>\n",
       "    <tr>\n",
       "      <th>2987986</th>\n",
       "      <td>29879.86</td>\n",
       "      <td>-13.714286</td>\n",
       "      <td>9.493284</td>\n",
       "      <td>-25.533578</td>\n",
       "      <td>2.706339e-06</td>\n",
       "    </tr>\n",
       "    <tr>\n",
       "      <th>3951461</th>\n",
       "      <td>39514.61</td>\n",
       "      <td>-6.190476</td>\n",
       "      <td>1.321368</td>\n",
       "      <td>-19.806593</td>\n",
       "      <td>2.702930e-06</td>\n",
       "    </tr>\n",
       "    <tr>\n",
       "      <th>3669274</th>\n",
       "      <td>36692.74</td>\n",
       "      <td>-14.095238</td>\n",
       "      <td>2.423199</td>\n",
       "      <td>23.806593</td>\n",
       "      <td>1.643593e-06</td>\n",
       "    </tr>\n",
       "    <tr>\n",
       "      <th>4658947</th>\n",
       "      <td>46589.47</td>\n",
       "      <td>1.714286</td>\n",
       "      <td>-2.167766</td>\n",
       "      <td>17.639072</td>\n",
       "      <td>2.874946e-07</td>\n",
       "    </tr>\n",
       "    <tr>\n",
       "      <th>...</th>\n",
       "      <td>...</td>\n",
       "      <td>...</td>\n",
       "      <td>...</td>\n",
       "      <td>...</td>\n",
       "      <td>...</td>\n",
       "    </tr>\n",
       "    <tr>\n",
       "      <th>2858076</th>\n",
       "      <td>28580.76</td>\n",
       "      <td>-10.000000</td>\n",
       "      <td>6.738706</td>\n",
       "      <td>-4.387790</td>\n",
       "      <td>1.666975e-06</td>\n",
       "    </tr>\n",
       "    <tr>\n",
       "      <th>4154291</th>\n",
       "      <td>41542.91</td>\n",
       "      <td>4.476190</td>\n",
       "      <td>-2.075946</td>\n",
       "      <td>1.339194</td>\n",
       "      <td>1.675190e-07</td>\n",
       "    </tr>\n",
       "    <tr>\n",
       "      <th>4191873</th>\n",
       "      <td>41918.73</td>\n",
       "      <td>8.095238</td>\n",
       "      <td>1.780464</td>\n",
       "      <td>20.722833</td>\n",
       "      <td>1.528141e-06</td>\n",
       "    </tr>\n",
       "    <tr>\n",
       "      <th>4820163</th>\n",
       "      <td>48201.63</td>\n",
       "      <td>-0.571429</td>\n",
       "      <td>-1.433211</td>\n",
       "      <td>-1.304029</td>\n",
       "      <td>2.351418e-07</td>\n",
       "    </tr>\n",
       "    <tr>\n",
       "      <th>4431274</th>\n",
       "      <td>44312.74</td>\n",
       "      <td>25.714286</td>\n",
       "      <td>-1.616850</td>\n",
       "      <td>3.982418</td>\n",
       "      <td>1.263851e-06</td>\n",
       "    </tr>\n",
       "  </tbody>\n",
       "</table>\n",
       "<p>1009440 rows × 5 columns</p>\n",
       "</div>"
      ],
      "text/plain": [
       "             time     Fpz-Cz     Pz-Oz  horizontal     submental\n",
       "3303784  33037.84   5.619048  7.656899    3.982418  1.688354e-06\n",
       "2987986  29879.86 -13.714286  9.493284  -25.533578  2.706339e-06\n",
       "3951461  39514.61  -6.190476  1.321368  -19.806593  2.702930e-06\n",
       "3669274  36692.74 -14.095238  2.423199   23.806593  1.643593e-06\n",
       "4658947  46589.47   1.714286 -2.167766   17.639072  2.874946e-07\n",
       "...           ...        ...       ...         ...           ...\n",
       "2858076  28580.76 -10.000000  6.738706   -4.387790  1.666975e-06\n",
       "4154291  41542.91   4.476190 -2.075946    1.339194  1.675190e-07\n",
       "4191873  41918.73   8.095238  1.780464   20.722833  1.528141e-06\n",
       "4820163  48201.63  -0.571429 -1.433211   -1.304029  2.351418e-07\n",
       "4431274  44312.74  25.714286 -1.616850    3.982418  1.263851e-06\n",
       "\n",
       "[1009440 rows x 5 columns]"
      ]
     },
     "metadata": {},
     "output_type": "display_data"
    }
   ],
   "source": [
    "display(X_train)"
   ]
  },
  {
   "cell_type": "code",
   "execution_count": 181,
   "id": "091a6118",
   "metadata": {},
   "outputs": [
    {
     "data": {
      "text/html": [
       "<div>\n",
       "<style scoped>\n",
       "    .dataframe tbody tr th:only-of-type {\n",
       "        vertical-align: middle;\n",
       "    }\n",
       "\n",
       "    .dataframe tbody tr th {\n",
       "        vertical-align: top;\n",
       "    }\n",
       "\n",
       "    .dataframe thead th {\n",
       "        text-align: right;\n",
       "    }\n",
       "</style>\n",
       "<table border=\"1\" class=\"dataframe\">\n",
       "  <thead>\n",
       "    <tr style=\"text-align: right;\">\n",
       "      <th></th>\n",
       "      <th>time</th>\n",
       "      <th>Fpz-Cz</th>\n",
       "      <th>Pz-Oz</th>\n",
       "      <th>horizontal</th>\n",
       "      <th>submental</th>\n",
       "    </tr>\n",
       "  </thead>\n",
       "  <tbody>\n",
       "    <tr>\n",
       "      <th>4672110</th>\n",
       "      <td>46721.10</td>\n",
       "      <td>-2.561905e+01</td>\n",
       "      <td>4.259585</td>\n",
       "      <td>-3.506716</td>\n",
       "      <td>1.316173e-07</td>\n",
       "    </tr>\n",
       "    <tr>\n",
       "      <th>4400924</th>\n",
       "      <td>44009.24</td>\n",
       "      <td>-3.552381e+01</td>\n",
       "      <td>15.369719</td>\n",
       "      <td>-21.568742</td>\n",
       "      <td>1.662103e-06</td>\n",
       "    </tr>\n",
       "    <tr>\n",
       "      <th>3169061</th>\n",
       "      <td>31690.61</td>\n",
       "      <td>7.809524e+00</td>\n",
       "      <td>-9.421490</td>\n",
       "      <td>33.498413</td>\n",
       "      <td>1.189725e-06</td>\n",
       "    </tr>\n",
       "    <tr>\n",
       "      <th>3771168</th>\n",
       "      <td>37711.68</td>\n",
       "      <td>-5.809524e+01</td>\n",
       "      <td>9.768742</td>\n",
       "      <td>-41.833455</td>\n",
       "      <td>1.066708e-06</td>\n",
       "    </tr>\n",
       "    <tr>\n",
       "      <th>4471706</th>\n",
       "      <td>44717.06</td>\n",
       "      <td>-3.990476e+01</td>\n",
       "      <td>5.361416</td>\n",
       "      <td>6.625641</td>\n",
       "      <td>4.831805e-07</td>\n",
       "    </tr>\n",
       "    <tr>\n",
       "      <th>...</th>\n",
       "      <td>...</td>\n",
       "      <td>...</td>\n",
       "      <td>...</td>\n",
       "      <td>...</td>\n",
       "      <td>...</td>\n",
       "    </tr>\n",
       "    <tr>\n",
       "      <th>2968843</th>\n",
       "      <td>29688.43</td>\n",
       "      <td>-1.238095e+00</td>\n",
       "      <td>2.974115</td>\n",
       "      <td>174.910867</td>\n",
       "      <td>2.723477e-06</td>\n",
       "    </tr>\n",
       "    <tr>\n",
       "      <th>3449502</th>\n",
       "      <td>34495.02</td>\n",
       "      <td>-1.065814e-14</td>\n",
       "      <td>-1.984127</td>\n",
       "      <td>-13.198535</td>\n",
       "      <td>1.503107e-07</td>\n",
       "    </tr>\n",
       "    <tr>\n",
       "      <th>4860485</th>\n",
       "      <td>48604.85</td>\n",
       "      <td>1.714286e+00</td>\n",
       "      <td>3.800488</td>\n",
       "      <td>-18.925519</td>\n",
       "      <td>1.568044e-07</td>\n",
       "    </tr>\n",
       "    <tr>\n",
       "      <th>3517780</th>\n",
       "      <td>35177.80</td>\n",
       "      <td>1.342857e+01</td>\n",
       "      <td>0.127717</td>\n",
       "      <td>24.687668</td>\n",
       "      <td>2.583130e-06</td>\n",
       "    </tr>\n",
       "    <tr>\n",
       "      <th>3527144</th>\n",
       "      <td>35271.44</td>\n",
       "      <td>1.123810e+01</td>\n",
       "      <td>-2.810501</td>\n",
       "      <td>6.185104</td>\n",
       "      <td>2.560918e-06</td>\n",
       "    </tr>\n",
       "  </tbody>\n",
       "</table>\n",
       "<p>252360 rows × 5 columns</p>\n",
       "</div>"
      ],
      "text/plain": [
       "             time        Fpz-Cz      Pz-Oz  horizontal     submental\n",
       "4672110  46721.10 -2.561905e+01   4.259585   -3.506716  1.316173e-07\n",
       "4400924  44009.24 -3.552381e+01  15.369719  -21.568742  1.662103e-06\n",
       "3169061  31690.61  7.809524e+00  -9.421490   33.498413  1.189725e-06\n",
       "3771168  37711.68 -5.809524e+01   9.768742  -41.833455  1.066708e-06\n",
       "4471706  44717.06 -3.990476e+01   5.361416    6.625641  4.831805e-07\n",
       "...           ...           ...        ...         ...           ...\n",
       "2968843  29688.43 -1.238095e+00   2.974115  174.910867  2.723477e-06\n",
       "3449502  34495.02 -1.065814e-14  -1.984127  -13.198535  1.503107e-07\n",
       "4860485  48604.85  1.714286e+00   3.800488  -18.925519  1.568044e-07\n",
       "3517780  35177.80  1.342857e+01   0.127717   24.687668  2.583130e-06\n",
       "3527144  35271.44  1.123810e+01  -2.810501    6.185104  2.560918e-06\n",
       "\n",
       "[252360 rows x 5 columns]"
      ]
     },
     "metadata": {},
     "output_type": "display_data"
    }
   ],
   "source": [
    "display(X_test)"
   ]
  },
  {
   "cell_type": "code",
   "execution_count": 182,
   "id": "22b973ed",
   "metadata": {},
   "outputs": [
    {
     "data": {
      "text/plain": [
       "3303784    2\n",
       "2987986    1\n",
       "3951461    2\n",
       "3669274    2\n",
       "4658947    5\n",
       "          ..\n",
       "2858076    2\n",
       "4154291    2\n",
       "4191873    2\n",
       "4820163    2\n",
       "4431274    2\n",
       "Name: target, Length: 1009440, dtype: int64"
      ]
     },
     "metadata": {},
     "output_type": "display_data"
    }
   ],
   "source": [
    "display(y_train)"
   ]
  },
  {
   "cell_type": "code",
   "execution_count": 183,
   "id": "4bf3216d",
   "metadata": {},
   "outputs": [
    {
     "data": {
      "text/plain": [
       "4672110    5\n",
       "4400924    2\n",
       "3169061    4\n",
       "3771168    4\n",
       "4471706    3\n",
       "          ..\n",
       "2968843    2\n",
       "3449502    2\n",
       "4860485    2\n",
       "3517780    1\n",
       "3527144    1\n",
       "Name: target, Length: 252360, dtype: int64"
      ]
     },
     "metadata": {},
     "output_type": "display_data"
    }
   ],
   "source": [
    "display(y_test)"
   ]
  },
  {
   "cell_type": "code",
   "execution_count": 184,
   "id": "58a52b1b",
   "metadata": {},
   "outputs": [],
   "source": [
    "#clf = LogisticRegression(multi_class='ovr', solver='liblinear',random_state=42).fit(X_train, y_train)"
   ]
  },
  {
   "cell_type": "code",
   "execution_count": 185,
   "id": "c93a56d4",
   "metadata": {},
   "outputs": [],
   "source": [
    "#X_train = X_train.array()\n",
    "\n",
    "#X_train.reshape((X_train.shape[0], 1, X_train.shape[1]))"
   ]
  },
  {
   "cell_type": "code",
   "execution_count": 186,
   "id": "70001819",
   "metadata": {},
   "outputs": [],
   "source": [
    "#model = Sequential()\n",
    "#model.add(LSTM(50, input_shape=(X_train, X_train)))\n",
    "#model.add(Dense(1))\n",
    "#model.compile(loss='mae', optimizer='adam')"
   ]
  },
  {
   "cell_type": "code",
   "execution_count": 187,
   "id": "075ffbc6",
   "metadata": {},
   "outputs": [],
   "source": [
    "#results = clf.predict(X_test)"
   ]
  },
  {
   "cell_type": "code",
   "execution_count": 188,
   "id": "9588e35f",
   "metadata": {},
   "outputs": [],
   "source": [
    "#display(results)"
   ]
  },
  {
   "cell_type": "code",
   "execution_count": 189,
   "id": "170acf86",
   "metadata": {},
   "outputs": [],
   "source": [
    "#clf.score(X_test, y_test)"
   ]
  },
  {
   "cell_type": "code",
   "execution_count": 190,
   "id": "89bb94c7",
   "metadata": {},
   "outputs": [],
   "source": [
    "#ConfusionMatrixDisplay.from_estimator(clf, X_test, y_test)\n",
    "#plt.show()"
   ]
  },
  {
   "cell_type": "code",
   "execution_count": 191,
   "id": "144f3dea",
   "metadata": {},
   "outputs": [],
   "source": [
    "features = ['Fpz-Cz','Pz-Oz','horizontal','submental']\n",
    "\n",
    "dtree = DecisionTreeClassifier()\n",
    "dtree = dtree.fit(X_train, y_train)\n",
    "\n",
    "#tree.plot_tree(dtree, feature_names=features) \n",
    "\n",
    "y_pred = dtree.predict(X_test)"
   ]
  },
  {
   "cell_type": "code",
   "execution_count": 192,
   "id": "21153661",
   "metadata": {},
   "outputs": [
    {
     "name": "stdout",
     "output_type": "stream",
     "text": [
      "Accuracy: 0.9999603740687906\n"
     ]
    }
   ],
   "source": [
    "print(\"Accuracy:\",metrics.accuracy_score(y_test, y_pred))"
   ]
  },
  {
   "cell_type": "code",
   "execution_count": 193,
   "id": "d97722e3",
   "metadata": {},
   "outputs": [
    {
     "data": {
      "image/png": "[encoded data removed]",
      "text/plain": [
       "<Figure size 640x480 with 2 Axes>"
      ]
     },
     "metadata": {},
     "output_type": "display_data"
    }
   ],
   "source": [
    "ConfusionMatrixDisplay.from_estimator(dtree, X_test, y_test)\n",
    "plt.show()"
   ]
  },
  {
   "cell_type": "code",
   "execution_count": 199,
   "id": "dc2048ba",
   "metadata": {},
   "outputs": [],
   "source": [
    "k_folds = KFold(n_splits = 5)\n",
    "\n",
    "scores = cross_val_score(dtree, X, y, cv = k_folds) "
   ]
  },
  {
   "cell_type": "code",
   "execution_count": 200,
   "id": "2af87b59",
   "metadata": {},
   "outputs": [
    {
     "data": {
      "text/plain": [
       "0.7246608020288476"
      ]
     },
     "metadata": {},
     "output_type": "display_data"
    }
   ],
   "source": [
    "display(scores.mean())"
   ]
  },
  {
   "cell_type": "code",
   "execution_count": 195,
   "id": "62f0471a",
   "metadata": {},
   "outputs": [
    {
     "data": {
      "text/plain": [
       "75.66125"
      ]
     },
     "metadata": {},
     "output_type": "display_data"
    }
   ],
   "source": [
    "Data_1 = 83.69\n",
    "Data_3 = 72.25\n",
    "Data_4 = 63.20\n",
    "Data_5 = 86.13\n",
    "Data_6 = 85.46\n",
    "Data_10 = 71.74\n",
    "Data_11 = 70.36\n",
    "Data_12 = 72.46\n",
    "\n",
    "kfold_mean = [83.69,72.25,63.20,86.13,85.46,71.74,70.36,72.46]\n",
    "\n",
    "display(statistics.mean(kfold_mean))"
   ]
  },
  {
   "cell_type": "code",
   "execution_count": null,
   "id": "0b3e731e",
   "metadata": {},
   "outputs": [],
   "source": []
  }
 ],
 "metadata": {
  "kernelspec": {
   "display_name": "Python 3 (ipykernel)",
   "language": "python",
   "name": "python3"
  },
  "language_info": {
   "codemirror_mode": {
    "name": "ipython",
    "version": 3
   },
   "file_extension": ".py",
   "mimetype": "text/x-python",
   "name": "python",
   "nbconvert_exporter": "python",
   "pygments_lexer": "ipython3",
   "version": "3.10.9"
  }
 },
 "nbformat": 4,
 "nbformat_minor": 5
}
